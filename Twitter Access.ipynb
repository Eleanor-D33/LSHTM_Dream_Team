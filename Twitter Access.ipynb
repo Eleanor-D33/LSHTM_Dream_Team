{
 "cells": [
  {
   "cell_type": "markdown",
   "metadata": {},
   "source": [
    "# Twitter Access "
   ]
  },
  {
   "cell_type": "code",
   "execution_count": null,
   "metadata": {},
   "outputs": [],
   "source": [
    "# Installing package 'Tweepy' \n",
    "\n",
    "pip install -- tweepy"
   ]
  },
  {
   "cell_type": "markdown",
   "metadata": {},
   "source": [
    "https://docs.tweepy.org/en/latest/"
   ]
  },
  {
   "cell_type": "code",
   "execution_count": null,
   "metadata": {},
   "outputs": [],
   "source": [
    "import os\n",
    "import tweepy as tw\n",
    "import pandas as pd"
   ]
  },
  {
   "cell_type": "code",
   "execution_count": null,
   "metadata": {},
   "outputs": [],
   "source": [
    "# Access token for twitter API \n",
    "# appname <- \"LSHTM_DC_2021\"\n",
    "\n",
    "consumer_key = \"consumer key\"\n",
    "consumer_secret = \"consumer secret\"\n",
    "\n",
    "access_token = \"access token\"\n",
    "access_token_secret = \"access token secret\""
   ]
  },
  {
   "cell_type": "code",
   "execution_count": null,
   "metadata": {},
   "outputs": [],
   "source": [
    "# Authenicating connection \n",
    "\n",
    "auth = tw.OAuthHandler(consumer_key, consumer_secret)\n",
    "auth.set_access_token(access_token, access_token_secret)\n",
    "api = tw.API(auth, wait_on_rate_limit=True)"
   ]
  },
  {
   "cell_type": "markdown",
   "metadata": {},
   "source": [
    "## Twitter API access resources\n",
    "\n",
    "- https://docs.tweepy.org/en/latest/api.html#search-methods\n",
    "- https://developer.twitter.com/en/docs/twitter-api/v1/rules-and-filtering/search-operators"
   ]
  },
  {
   "cell_type": "code",
   "execution_count": null,
   "metadata": {},
   "outputs": [],
   "source": [
    "# Defining tweet search parameters\n",
    "# API.search(q[, geocode][, lang][, locale][, result_type][, count][, until][, since_id]\n",
    "# [, max_id][, include_entities])\n",
    "\n",
    "search_words = \"lockdown\" + \" -filter:retweets\" + \" - filter:media\"\n",
    "result_type = \"mixed\"\n",
    "date_since = \"2021-01-21\"\n",
    "until = \"2021-01-26\""
   ]
  },
  {
   "cell_type": "code",
   "execution_count": null,
   "metadata": {},
   "outputs": [],
   "source": [
    "# Creating a cursor to access the API \n",
    "\n",
    "tweets = tw.Cursor(api.search,\n",
    "              q=search_words,\n",
    "              lang=\"en\",\n",
    "              since_id=date_since, \n",
    "              until = until,\n",
    "              result_type = result_type).items(500)\n",
    "tweets"
   ]
  },
  {
   "cell_type": "code",
   "execution_count": null,
   "metadata": {
    "scrolled": false
   },
   "outputs": [],
   "source": [
    "# picking the columns to display \n",
    "# display as a dataframe \n",
    "# -- text seems to be cut off here? -- \n",
    "\n",
    "users_locs = [[tweet.id, tweet.text, tweet.user.screen_name, tweet.user.location, tweet.created_at] for tweet in tweets]\n",
    "tweet_text = pd.DataFrame(data=users_locs, columns=['tweet_id','text', 'user', \"location\", \"date\"])\n",
    "tweet_text"
   ]
  },
  {
   "cell_type": "code",
   "execution_count": null,
   "metadata": {},
   "outputs": [],
   "source": [
    "# Saving file \n",
    "tweet_text.to_csv('/tweet_lockdown_demo.csv', index = False)"
   ]
  }
 ],
 "metadata": {
  "kernelspec": {
   "display_name": "Python 3",
   "language": "python",
   "name": "python3"
  },
  "language_info": {
   "codemirror_mode": {
    "name": "ipython",
    "version": 3
   },
   "file_extension": ".py",
   "mimetype": "text/x-python",
   "name": "python",
   "nbconvert_exporter": "python",
   "pygments_lexer": "ipython3",
   "version": "3.8.5"
  }
 },
 "nbformat": 4,
 "nbformat_minor": 4
}
